{
  "nbformat": 4,
  "nbformat_minor": 0,
  "metadata": {
    "colab": {
      "provenance": [],
      "authorship_tag": "ABX9TyOw871xf2ciqETTeZGsYe+d",
      "include_colab_link": true
    },
    "kernelspec": {
      "name": "python3",
      "display_name": "Python 3"
    },
    "language_info": {
      "name": "python"
    }
  },
  "cells": [
    {
      "cell_type": "markdown",
      "metadata": {
        "id": "view-in-github",
        "colab_type": "text"
      },
      "source": [
        "<a href=\"https://colab.research.google.com/github/csanyika/Python_assignments/blob/main/Keras.ipynb\" target=\"_parent\"><img src=\"https://colab.research.google.com/assets/colab-badge.svg\" alt=\"Open In Colab\"/></a>"
      ]
    },
    {
      "cell_type": "markdown",
      "source": [
        "Download the pulsar dataset here (There is a training and test data set):\n",
        "https://www.kaggle.com/competitions/playground-series-s3e10/data"
      ],
      "metadata": {
        "id": "r9jvigV18XtW"
      }
    },
    {
      "cell_type": "markdown",
      "source": [
        "Build a neural network using keras to predict whether an observation is a pulsar or not using the training dataset provided.\n",
        "Using this model that you built, make predictions on the test data set."
      ],
      "metadata": {
        "id": "l4Po9Sz-9IvA"
      }
    },
    {
      "cell_type": "code",
      "execution_count": null,
      "metadata": {
        "id": "s-pn_JE7q2X4"
      },
      "outputs": [],
      "source": [
        "import numpy as np\n",
        "import pandas as pd\n",
        "from tensorflow import keras\n",
        "from tensorflow.keras import layers\n",
        "from tensorflow.keras.utils import to_categorical\n",
        "\n",
        "#read csv files\n",
        "test = pd.read_csv(\"test.csv\")\n",
        "train = pd.read_csv(\"train.csv\")"
      ]
    },
    {
      "cell_type": "code",
      "source": [
        "#check for missing values in each column\n",
        "print(X_train.isna().sum())"
      ],
      "metadata": {
        "colab": {
          "base_uri": "https://localhost:8080/"
        },
        "id": "n7OKsjpG4xom",
        "outputId": "346a8d37-9c99-4cb2-81ae-b61e31cab6e9"
      },
      "execution_count": null,
      "outputs": [
        {
          "output_type": "stream",
          "name": "stdout",
          "text": [
            "Mean_Integrated         0\n",
            "SD                      0\n",
            "EK                      0\n",
            "Skewness                0\n",
            "Mean_DMSNR_Curve        0\n",
            "SD_DMSNR_Curve          0\n",
            "EK_DMSNR_Curve          0\n",
            "Skewness_DMSNR_Curve    0\n",
            "dtype: int64\n"
          ]
        }
      ]
    },
    {
      "cell_type": "code",
      "source": [
        "#fitting a sequential model in this section\n",
        "#creates blank plot to add layers to\n",
        "model = keras.Sequential()\n",
        "\n",
        "#adding dense layer\n",
        "#input layer and hidden layer\n",
        "model.add(layers.Dense(32, input_dim = 8))\n",
        "\n",
        "#hidden layer\n",
        "model.add(layers.Dense(64, activation = 'relu'))\n",
        "\n",
        "#output layer has no. of classes (i.e. 2)\n",
        "model.add(layers.Dense(2, activation = \"softmax\"))\n",
        "model.summary()"
      ],
      "metadata": {
        "colab": {
          "base_uri": "https://localhost:8080/"
        },
        "id": "Oa8E6UZEMzr5",
        "outputId": "34414f8d-9b81-4ceb-d226-1105acc08038"
      },
      "execution_count": null,
      "outputs": [
        {
          "output_type": "stream",
          "name": "stdout",
          "text": [
            "Model: \"sequential_3\"\n",
            "_________________________________________________________________\n",
            " Layer (type)                Output Shape              Param #   \n",
            "=================================================================\n",
            " dense_9 (Dense)             (None, 32)                288       \n",
            "                                                                 \n",
            " dense_10 (Dense)            (None, 64)                2112      \n",
            "                                                                 \n",
            " dense_11 (Dense)            (None, 2)                 130       \n",
            "                                                                 \n",
            "=================================================================\n",
            "Total params: 2530 (9.88 KB)\n",
            "Trainable params: 2530 (9.88 KB)\n",
            "Non-trainable params: 0 (0.00 Byte)\n",
            "_________________________________________________________________\n"
          ]
        }
      ]
    },
    {
      "cell_type": "code",
      "source": [
        "#set y variable\n",
        "y_train = train[\"Class\"]"
      ],
      "metadata": {
        "id": "G5UxzxlYyWju"
      },
      "execution_count": null,
      "outputs": []
    },
    {
      "cell_type": "code",
      "source": [
        "#set x variables\n",
        "X_train = train.iloc[:, 1:9]"
      ],
      "metadata": {
        "id": "1LQTr1vbOxwA"
      },
      "execution_count": null,
      "outputs": []
    },
    {
      "cell_type": "code",
      "source": [
        "#fit the model in this section\n",
        "#used binary_crossentropy because I'm using one-hot encoding for binary data\n",
        "model.compile(loss=\"binary_crossentropy\", optimizer=\"adam\", metrics=[\"accuracy\"])\n",
        "\n",
        "#there are 2 options that y can be 1.0 or 0.0\n",
        "num_classes = 2\n",
        "y_train = keras.utils.to_categorical(y_train, num_classes)\n",
        "\n",
        "#check if there's a loss function specifically for binary\n",
        "model.fit(X_train,y_train, epochs = 10, batch_size = 100)"
      ],
      "metadata": {
        "id": "vWbquOoWsyq_",
        "colab": {
          "base_uri": "https://localhost:8080/"
        },
        "outputId": "a6ca53aa-a061-4b31-cfd6-478d35a126ed"
      },
      "execution_count": null,
      "outputs": [
        {
          "output_type": "stream",
          "name": "stdout",
          "text": [
            "Epoch 1/10\n",
            "1176/1176 [==============================] - 3s 2ms/step - loss: 0.2079 - accuracy: 0.9779\n",
            "Epoch 2/10\n",
            "1176/1176 [==============================] - 3s 3ms/step - loss: 0.0479 - accuracy: 0.9879\n",
            "Epoch 3/10\n",
            "1176/1176 [==============================] - 4s 4ms/step - loss: 0.0457 - accuracy: 0.9885\n",
            "Epoch 4/10\n",
            "1176/1176 [==============================] - 3s 2ms/step - loss: 0.0449 - accuracy: 0.9886\n",
            "Epoch 5/10\n",
            "1176/1176 [==============================] - 3s 2ms/step - loss: 0.0431 - accuracy: 0.9888\n",
            "Epoch 6/10\n",
            "1176/1176 [==============================] - 3s 2ms/step - loss: 0.0430 - accuracy: 0.9890\n",
            "Epoch 7/10\n",
            "1176/1176 [==============================] - 3s 3ms/step - loss: 0.0412 - accuracy: 0.9892\n",
            "Epoch 8/10\n",
            "1176/1176 [==============================] - 4s 3ms/step - loss: 0.0404 - accuracy: 0.9891\n",
            "Epoch 9/10\n",
            "1176/1176 [==============================] - 3s 3ms/step - loss: 0.0400 - accuracy: 0.9895\n",
            "Epoch 10/10\n",
            "1176/1176 [==============================] - 3s 2ms/step - loss: 0.0395 - accuracy: 0.9895\n"
          ]
        },
        {
          "output_type": "execute_result",
          "data": {
            "text/plain": [
              "<keras.src.callbacks.History at 0x7c01ffe4b880>"
            ]
          },
          "metadata": {},
          "execution_count": 84
        }
      ]
    },
    {
      "cell_type": "code",
      "source": [
        "X_test = test.iloc[:, 1:9]\n",
        "\n",
        "#check for missing values in each column\n",
        "print(X_test.isna().sum())"
      ],
      "metadata": {
        "colab": {
          "base_uri": "https://localhost:8080/"
        },
        "id": "-PWcvYLcCY6p",
        "outputId": "1be0a633-d003-4ad9-c48e-e9eea5599352"
      },
      "execution_count": null,
      "outputs": [
        {
          "output_type": "stream",
          "name": "stdout",
          "text": [
            "Mean_Integrated         0\n",
            "SD                      0\n",
            "EK                      0\n",
            "Skewness                0\n",
            "Mean_DMSNR_Curve        0\n",
            "SD_DMSNR_Curve          0\n",
            "EK_DMSNR_Curve          0\n",
            "Skewness_DMSNR_Curve    0\n",
            "dtype: int64\n"
          ]
        }
      ]
    },
    {
      "cell_type": "code",
      "source": [
        "predictions = model.predict(X_test)\n",
        "predictions"
      ],
      "metadata": {
        "colab": {
          "base_uri": "https://localhost:8080/"
        },
        "id": "6irYg-v-XKCu",
        "outputId": "3599364d-7848-4325-a93c-3961a8618cdf"
      },
      "execution_count": null,
      "outputs": [
        {
          "output_type": "stream",
          "name": "stdout",
          "text": [
            "2450/2450 [==============================] - 4s 2ms/step\n"
          ]
        },
        {
          "output_type": "execute_result",
          "data": {
            "text/plain": [
              "array([[9.99999940e-01, 7.77565656e-09],\n",
              "       [9.99994218e-01, 5.77356650e-06],\n",
              "       [9.99999821e-01, 7.82869662e-08],\n",
              "       ...,\n",
              "       [9.99999940e-01, 2.41375417e-08],\n",
              "       [9.84478951e-01, 1.55210905e-02],\n",
              "       [6.74020615e-04, 9.99325991e-01]], dtype=float32)"
            ]
          },
          "metadata": {},
          "execution_count": 88
        }
      ]
    },
    {
      "cell_type": "code",
      "source": [
        "#convert probabilities from array to dataframe\n",
        "probability = pd.DataFrame(predictions)\n",
        "\n",
        "#join probabilities to the test data\n",
        "test_predict = pd.concat([test, probability], axis=1)\n",
        "\n",
        "#rename probability of 1 to\n",
        "#test_predict.rename(columns={1:\"pulsar prob\"}, inplace=True)\n",
        "\n",
        "#if probability of being a pulsar is greater or equal to 60%, classify as pulsar (1), otherwise classify as 0\n",
        "test_predict[\"Class\"] = (test_predict[1] >= 0.6).astype(int)\n",
        "\n",
        "#select the id and Class columns only\n",
        "result = test_predict[[\"id\", \"Class\"]]\n",
        "\n",
        "print(result)"
      ],
      "metadata": {
        "colab": {
          "base_uri": "https://localhost:8080/"
        },
        "id": "A4SoCJvuS8OW",
        "outputId": "24adbb85-7268-4d9a-f687-1a1276bbd79f"
      },
      "execution_count": null,
      "outputs": [
        {
          "output_type": "stream",
          "name": "stdout",
          "text": [
            "           id  Class\n",
            "0      117564      0\n",
            "1      117565      0\n",
            "2      117566      0\n",
            "3      117567      0\n",
            "4      117568      0\n",
            "...       ...    ...\n",
            "78372  195936      0\n",
            "78373  195937      0\n",
            "78374  195938      0\n",
            "78375  195939      0\n",
            "78376  195940      1\n",
            "\n",
            "[78377 rows x 2 columns]\n"
          ]
        }
      ]
    },
    {
      "cell_type": "code",
      "source": [
        "result.to_csv('PulsarPrediction.csv', index=False)"
      ],
      "metadata": {
        "id": "uKiLEOh3Winp"
      },
      "execution_count": null,
      "outputs": []
    }
  ]
}